{
 "cells": [
  {
   "cell_type": "code",
   "execution_count": null,
   "id": "ea672ef5-72f3-4983-82dc-e85b78c70d2c",
   "metadata": {},
   "outputs": [],
   "source": [
    "import pandas as pd"
   ]
  },
  {
   "cell_type": "code",
   "execution_count": null,
   "id": "0b1b3d3b-2ff9-4bb2-9efe-57ea1dd3b4d5",
   "metadata": {},
   "outputs": [],
   "source": [
    "df = pd.read_csv(r'C:\\Proyectos-FJCH\\Udemy\\data-science-con-python-numpy-pandas\\data\\1.3\\info_pais.csv', encoding='ISO-8859-15', delimiter=';')"
   ]
  },
  {
   "cell_type": "code",
   "execution_count": null,
   "id": "5878f751-e740-4431-9861-d89c46debaae",
   "metadata": {},
   "outputs": [],
   "source": [
    "df"
   ]
  },
  {
   "cell_type": "code",
   "execution_count": null,
   "id": "be95418a-c5eb-4646-85c1-69df9083bb1b",
   "metadata": {},
   "outputs": [],
   "source": [
    "df_esperanza = df.sort_values('Esperanza de vida') # Por defecto ascending=True"
   ]
  },
  {
   "cell_type": "code",
   "execution_count": null,
   "id": "844feb90-c430-441d-8227-8a1d1f05e3d4",
   "metadata": {},
   "outputs": [],
   "source": [
    "df_esperanza # No usamos head() para que podamos ver registros del inicio y del final del DataFrame y verificar que se ha ordenado. "
   ]
  },
  {
   "cell_type": "markdown",
   "id": "653ebafc-230e-403a-91bb-53bcb9a2b8d8",
   "metadata": {},
   "source": [
    "## Visualización básica com matplotlib"
   ]
  },
  {
   "cell_type": "code",
   "execution_count": null,
   "id": "2e0c6122-1b02-4325-8e7e-0f1a2d64075d",
   "metadata": {},
   "outputs": [],
   "source": [
    "import matplotlib.pyplot as plt"
   ]
  },
  {
   "cell_type": "code",
   "execution_count": null,
   "id": "f9d67fac-c1ae-4012-914b-2c84656c0187",
   "metadata": {},
   "outputs": [],
   "source": [
    "years = [2020, 2021, 2022]\n",
    "values = [5, 8, 12]"
   ]
  },
  {
   "cell_type": "code",
   "execution_count": null,
   "id": "3ddc6e5e-3ac0-4def-a3da-fe2cc686c64a",
   "metadata": {},
   "outputs": [],
   "source": [
    "plt.plot(years, values);"
   ]
  },
  {
   "cell_type": "code",
   "execution_count": null,
   "id": "111bfd64-f88a-4a0f-9b0c-7595bb2820c5",
   "metadata": {},
   "outputs": [],
   "source": [
    "plt.scatter(years, values);"
   ]
  }
 ],
 "metadata": {
  "kernelspec": {
   "display_name": "Python 3 (ipykernel)",
   "language": "python",
   "name": "python3"
  },
  "language_info": {
   "codemirror_mode": {
    "name": "ipython",
    "version": 3
   },
   "file_extension": ".py",
   "mimetype": "text/x-python",
   "name": "python",
   "nbconvert_exporter": "python",
   "pygments_lexer": "ipython3",
   "version": "3.9.6"
  }
 },
 "nbformat": 4,
 "nbformat_minor": 5
}
