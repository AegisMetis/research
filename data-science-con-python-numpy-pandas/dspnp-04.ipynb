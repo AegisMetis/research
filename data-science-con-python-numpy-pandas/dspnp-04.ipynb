{
 "cells": [
  {
   "cell_type": "markdown",
   "id": "7243b74e-0d3c-47d6-8560-e1bdb404bd8d",
   "metadata": {},
   "source": [
    "## Fundamentos de Python."
   ]
  },
  {
   "cell_type": "markdown",
   "id": "f25210ff-2863-48b2-8d2f-4772fc3642db",
   "metadata": {},
   "source": [
    "Cálculo del índice de Masa Corporal (IMC = Peso [Kg] / Altura ^2 [m] "
   ]
  },
  {
   "cell_type": "code",
   "execution_count": 1,
   "id": "b510cb1b-39fa-43ce-98af-9d61eceeb787",
   "metadata": {},
   "outputs": [],
   "source": [
    "peso = 80 \n",
    "altura = 1.75\n",
    "imc = peso / altura**2"
   ]
  },
  {
   "cell_type": "code",
   "execution_count": 2,
   "id": "6f7894a2-f3eb-4b45-a238-9cbf011873ff",
   "metadata": {},
   "outputs": [
    {
     "data": {
      "text/plain": [
       "26.122448979591837"
      ]
     },
     "execution_count": 2,
     "metadata": {},
     "output_type": "execute_result"
    }
   ],
   "source": [
    "imc"
   ]
  },
  {
   "cell_type": "markdown",
   "id": "21919d82-0d38-4628-a1bc-e3a38f2ebb07",
   "metadata": {},
   "source": [
    "## Creación de listas y extracción de datos.\n",
    "- Definimos una lista con [].\n",
    "- Una lista es una colección heterogénea de valores.\n",
    "- El índice en Python comienza en 0."
   ]
  },
  {
   "cell_type": "code",
   "execution_count": 4,
   "id": "833ea731-fd8a-4e64-ab73-5ad986f76e1d",
   "metadata": {},
   "outputs": [],
   "source": [
    "dimensiones = [14, 18, 22, 13,17, 'mesa']"
   ]
  },
  {
   "cell_type": "code",
   "execution_count": 5,
   "id": "5b0f3ea3-e401-4e15-891a-aee30062c1f9",
   "metadata": {},
   "outputs": [
    {
     "data": {
      "text/plain": [
       "[14, 18, 22, 13, 17, 'mesa']"
      ]
     },
     "execution_count": 5,
     "metadata": {},
     "output_type": "execute_result"
    }
   ],
   "source": [
    "dimensiones"
   ]
  },
  {
   "cell_type": "markdown",
   "id": "bf70d3a8-770b-4c22-b7f2-fd80bbbe4004",
   "metadata": {},
   "source": [
    "### Recortes (slices)\n",
    "Podemos realizar extracciones parciales de la lista mediante el uso de [n : m] donde el primer valor es la posición del primer elemento del recorte, y m el último valor exluyendolo"
   ]
  },
  {
   "cell_type": "code",
   "execution_count": 6,
   "id": "74b40f26-4c74-4b74-b63f-e384554d2ba8",
   "metadata": {},
   "outputs": [
    {
     "data": {
      "text/plain": [
       "[18, 22]"
      ]
     },
     "execution_count": 6,
     "metadata": {},
     "output_type": "execute_result"
    }
   ],
   "source": [
    "dimensiones[1:3] # Extraemos desde la posición 1, segundo elemento de la lista, hasta el elemnto anterior a la posición 3, cuarto elemento de la lista."
   ]
  },
  {
   "cell_type": "code",
   "execution_count": 7,
   "id": "be0dfa7d-fc7e-465d-b5cb-8a0b86d31f0e",
   "metadata": {},
   "outputs": [
    {
     "data": {
      "text/plain": [
       "[18, 22, 13, 17]"
      ]
     },
     "execution_count": 7,
     "metadata": {},
     "output_type": "execute_result"
    }
   ],
   "source": [
    "dimensiones[1:5] # Extraemos desde el segundo elemento hasta el penúltimo elemento."
   ]
  },
  {
   "cell_type": "code",
   "execution_count": 8,
   "id": "07a8c906-9fbe-4bcd-9bea-5bab7bc150cb",
   "metadata": {},
   "outputs": [
    {
     "data": {
      "text/plain": [
       "[18, 22, 13, 17]"
      ]
     },
     "execution_count": 8,
     "metadata": {},
     "output_type": "execute_result"
    }
   ],
   "source": [
    "dimensiones[1:-1] # El recorte anterior tambien se puede representar indicando el último elemento a extraer contado desde el final, en negativo."
   ]
  },
  {
   "cell_type": "markdown",
   "id": "36a1be82-aad0-447f-b0da-015e5bfd2ded",
   "metadata": {},
   "source": [
    "### Modificación de listas\n",
    "Para modificar un valor en una lista usaremos el nombre de la lista y el índice del elemento a modificar."
   ]
  },
  {
   "cell_type": "code",
   "execution_count": 9,
   "id": "c828b7c4-c9ce-4ce2-95ff-8d852afdd340",
   "metadata": {},
   "outputs": [
    {
     "data": {
      "text/plain": [
       "[35.6, 36.2, 35.7, 35.9, 36.3, 36.5]"
      ]
     },
     "execution_count": 9,
     "metadata": {},
     "output_type": "execute_result"
    }
   ],
   "source": [
    "temp = [35.6, 36.2, 35.7, 35.9, 36.3, 36.5]\n",
    "temp"
   ]
  },
  {
   "cell_type": "code",
   "execution_count": 10,
   "id": "6a59422c-4203-4a21-b22c-c34bd882929d",
   "metadata": {},
   "outputs": [
    {
     "data": {
      "text/plain": [
       "[35.6, 35.9, 35.7, 35.9, 36.3, 36.5]"
      ]
     },
     "execution_count": 10,
     "metadata": {},
     "output_type": "execute_result"
    }
   ],
   "source": [
    "temp[1] = 35.9\n",
    "temp"
   ]
  },
  {
   "cell_type": "markdown",
   "id": "52245d44-97fe-460b-b389-b1593514979a",
   "metadata": {},
   "source": [
    "Para añadir elementos de una lista podemos usar el signo '+'"
   ]
  },
  {
   "cell_type": "code",
   "execution_count": 11,
   "id": "d3fd7a28-987c-4292-9ce2-659702c997f0",
   "metadata": {},
   "outputs": [
    {
     "data": {
      "text/plain": [
       "[35.6, 35.9, 35.7, 35.9, 36.3, 36.5, 36.2, 35.8]"
      ]
     },
     "execution_count": 11,
     "metadata": {},
     "output_type": "execute_result"
    }
   ],
   "source": [
    "temp = temp + [36.2, 35.8]\n",
    "temp"
   ]
  },
  {
   "cell_type": "markdown",
   "id": "9fa53e7b-35cc-4ce6-82c5-7d333f235a45",
   "metadata": {},
   "source": [
    "Para eliminar elemetos de una lista usaremos la función del()"
   ]
  },
  {
   "cell_type": "code",
   "execution_count": 12,
   "id": "aa5b596a-467a-40c1-8899-ddaddf85faaf",
   "metadata": {},
   "outputs": [
    {
     "data": {
      "text/plain": [
       "[35.6, 35.9, 35.9, 36.3, 36.5, 36.2, 35.8]"
      ]
     },
     "execution_count": 12,
     "metadata": {},
     "output_type": "execute_result"
    }
   ],
   "source": [
    "del(temp[2])\n",
    "temp"
   ]
  },
  {
   "cell_type": "markdown",
   "id": "866fca36-0896-433e-af40-8e093f6ec667",
   "metadata": {},
   "source": [
    "Para crear una lista en función de otra tenemos dos métodos.\n",
    "\n",
    "Modo 1: Crear una lista con puntero.\n",
    "Al hacer lista2 = lista1 estamos haciendo que lista2 referencie, apunte, a lista1 de manera que modificando una de ellas, se modificaran las dos."
   ]
  },
  {
   "cell_type": "code",
   "execution_count": 13,
   "id": "40345d6f-a0f9-44b2-a4a1-b9b05493cb06",
   "metadata": {},
   "outputs": [],
   "source": [
    "x = [2, 5, 6]\n",
    "y = x"
   ]
  },
  {
   "cell_type": "code",
   "execution_count": 14,
   "id": "18b95f79-9392-43c7-8b74-1de77d3dcb82",
   "metadata": {},
   "outputs": [
    {
     "data": {
      "text/plain": [
       "[2, 5, 6]"
      ]
     },
     "execution_count": 14,
     "metadata": {},
     "output_type": "execute_result"
    }
   ],
   "source": [
    "y"
   ]
  },
  {
   "cell_type": "code",
   "execution_count": 15,
   "id": "0a55db37-916f-4800-8db0-4879e98d4118",
   "metadata": {},
   "outputs": [
    {
     "data": {
      "text/plain": [
       "[2, 5, 8]"
      ]
     },
     "execution_count": 15,
     "metadata": {},
     "output_type": "execute_result"
    }
   ],
   "source": [
    "y[2] = 8\n",
    "y"
   ]
  },
  {
   "cell_type": "markdown",
   "id": "e8cf1f69-561e-45d5-b7bb-7a136521e8fc",
   "metadata": {},
   "source": [
    "Modo 2: Crear una lista independiente.\n",
    "\n",
    "Si usamos la función list(), la nueva variable será una copia de la otra lista pero independiente, es decir, no se verán afectas por las modificaciones que se hagan en una u otra."
   ]
  },
  {
   "cell_type": "code",
   "execution_count": 16,
   "id": "6864d2fb-e20a-4b39-9fc4-c5a429d8bad8",
   "metadata": {},
   "outputs": [],
   "source": [
    "x = [2, 5, 6]\n",
    "y = list(x)"
   ]
  },
  {
   "cell_type": "code",
   "execution_count": 17,
   "id": "5f0ca153-1935-4b9c-b067-4a088c0df522",
   "metadata": {},
   "outputs": [
    {
     "data": {
      "text/plain": [
       "[2, 5, 6]"
      ]
     },
     "execution_count": 17,
     "metadata": {},
     "output_type": "execute_result"
    }
   ],
   "source": [
    "y"
   ]
  },
  {
   "cell_type": "code",
   "execution_count": 18,
   "id": "f999edbd-796c-4956-befa-884e53f496b7",
   "metadata": {},
   "outputs": [],
   "source": [
    "y[1] = 8"
   ]
  },
  {
   "cell_type": "code",
   "execution_count": 19,
   "id": "749c38f8-94ae-47cf-8eb2-1cdb155457ac",
   "metadata": {},
   "outputs": [
    {
     "data": {
      "text/plain": [
       "[2, 8, 6]"
      ]
     },
     "execution_count": 19,
     "metadata": {},
     "output_type": "execute_result"
    }
   ],
   "source": [
    "y"
   ]
  },
  {
   "cell_type": "code",
   "execution_count": 20,
   "id": "98b5a9c8-cc54-4799-b54b-41b08f20cdbe",
   "metadata": {},
   "outputs": [
    {
     "data": {
      "text/plain": [
       "[2, 5, 6]"
      ]
     },
     "execution_count": 20,
     "metadata": {},
     "output_type": "execute_result"
    }
   ],
   "source": [
    "x"
   ]
  },
  {
   "cell_type": "code",
   "execution_count": 21,
   "id": "972568bc-5dda-412f-b8c9-eb27f627125e",
   "metadata": {},
   "outputs": [],
   "source": [
    "## Definición de funciones.\n",
    "# Las funciones en Python se definen mediante la palabra 'def'\n",
    "\n",
    "#def nombre_de_funcion(argumento1, argumento2, ...):\n",
    "#  \"\"\" cadena documentación \"\"\"\n",
    "#  codigo_funcion\n",
    "#  return valor_devuelto"
   ]
  },
  {
   "cell_type": "code",
   "execution_count": 22,
   "id": "e99dc353-83ec-48a7-9286-48499a6d94c1",
   "metadata": {},
   "outputs": [],
   "source": [
    "def potencia(valor_base, valor_exponente):\n",
    "  \"\"\" Función que eleva un número, valor_base, a una potencia cualquiera, valor_exponente \"\"\"\n",
    "  resultado = valor_base ** valor_exponente\n",
    "  return resultado"
   ]
  },
  {
   "cell_type": "code",
   "execution_count": 23,
   "id": "8c02dd64-c6ba-4346-b850-4766e861230b",
   "metadata": {},
   "outputs": [
    {
     "data": {
      "text/plain": [
       "25"
      ]
     },
     "execution_count": 23,
     "metadata": {},
     "output_type": "execute_result"
    }
   ],
   "source": [
    "potencia(5, 2)"
   ]
  },
  {
   "cell_type": "code",
   "execution_count": 24,
   "id": "1afe9a90-95bb-4f42-9412-b7cced24cc78",
   "metadata": {},
   "outputs": [],
   "source": [
    "def potencia(valor_base, valor_exponente=2): # Podemos definir un valor por defecto para los argumentos\n",
    "  \"\"\" Función que eleva un número, valor_base, a una potencia cualquiera, valor_exponente.\n",
    "    Por defecto, si solo se indica valor_base, la función devolverá el cuadrado del número \n",
    "  \"\"\"\n",
    "  resultado = valor_base ** valor_exponente\n",
    "  return resultado"
   ]
  },
  {
   "cell_type": "code",
   "execution_count": 25,
   "id": "7c6db71a-08c8-4d7f-b880-b0875cde34f4",
   "metadata": {},
   "outputs": [
    {
     "data": {
      "text/plain": [
       "25"
      ]
     },
     "execution_count": 25,
     "metadata": {},
     "output_type": "execute_result"
    }
   ],
   "source": [
    "potencia(5)"
   ]
  },
  {
   "cell_type": "markdown",
   "id": "56dc6491-0676-4201-83da-fd7daefb7a30",
   "metadata": {},
   "source": [
    "### Argumentos flexibles"
   ]
  },
  {
   "cell_type": "code",
   "execution_count": 26,
   "id": "bb41b6d0-3a5e-4776-84ea-36ba0e89f627",
   "metadata": {},
   "outputs": [],
   "source": [
    "def multiplica(*args): # La definicón de la función incluye *args que indica que la función admitirá cualquier número de argumentos\n",
    "  \"\"\" Multiplica todos los números que se pasen como argumentos. \"\"\"\n",
    "  mul_todos = 1\n",
    "  for n in args:\n",
    "      mul_todos = mul_todos * n\n",
    "  return mul_todos"
   ]
  },
  {
   "cell_type": "code",
   "execution_count": 27,
   "id": "43d1c727-86b9-4adc-975a-3bca8e89637e",
   "metadata": {},
   "outputs": [
    {
     "data": {
      "text/plain": [
       "180"
      ]
     },
     "execution_count": 27,
     "metadata": {},
     "output_type": "execute_result"
    }
   ],
   "source": [
    "multiplica(2,6,3,5)"
   ]
  },
  {
   "cell_type": "code",
   "execution_count": 28,
   "id": "dff88cb8-5e21-4df6-80f1-6e2ca4338cda",
   "metadata": {},
   "outputs": [
    {
     "data": {
      "text/plain": [
       "1344"
      ]
     },
     "execution_count": 28,
     "metadata": {},
     "output_type": "execute_result"
    }
   ],
   "source": [
    "multiplica(4,7,8,2,3)"
   ]
  },
  {
   "cell_type": "code",
   "execution_count": 29,
   "id": "732d810e-cd1a-4ec0-be2d-a6918253a80b",
   "metadata": {},
   "outputs": [],
   "source": [
    "# Función que calcule el área de un triángulo dados su base y su altura (a*h/2).\n",
    "def area_triangulo(base, altura):\n",
    "  \"\"\" Cálculo del área de un triangulo dados su base y altura \"\"\"\n",
    "  area = (base * altura) / 2\n",
    "  return area"
   ]
  },
  {
   "cell_type": "code",
   "execution_count": 30,
   "id": "789acd62-087c-49bd-a850-11c85edb7fd9",
   "metadata": {},
   "outputs": [
    {
     "data": {
      "text/plain": [
       "7.5"
      ]
     },
     "execution_count": 30,
     "metadata": {},
     "output_type": "execute_result"
    }
   ],
   "source": [
    "area_triangulo(5, 3)"
   ]
  },
  {
   "cell_type": "code",
   "execution_count": 31,
   "id": "d1e524c1-a58f-42d5-a765-68b2ad3a5650",
   "metadata": {},
   "outputs": [
    {
     "name": "stdout",
     "output_type": "stream",
     "text": [
      "Help on function area_triangulo in module __main__:\n",
      "\n",
      "area_triangulo(base, altura)\n",
      "    Cálculo del área de un triangulo dados su base y altura\n",
      "\n"
     ]
    }
   ],
   "source": [
    "help(area_triangulo)"
   ]
  },
  {
   "cell_type": "markdown",
   "id": "32ea7672-8ead-48c6-aa36-e0fc5e28b58a",
   "metadata": {},
   "source": [
    "### Funciones lambda."
   ]
  },
  {
   "cell_type": "code",
   "execution_count": 32,
   "id": "a18b5b39",
   "metadata": {},
   "outputs": [
    {
     "data": {
      "text/plain": [
       "8"
      ]
     },
     "execution_count": 32,
     "metadata": {},
     "output_type": "execute_result"
    }
   ],
   "source": [
    "# nombre_funcion = lambda arg1, arg2, ..., : codigo_funcion\n",
    "potencia = lambda base, exponente: base ** exponente\n",
    "potencia(2,3)"
   ]
  },
  {
   "cell_type": "markdown",
   "id": "7d09565f",
   "metadata": {},
   "source": [
    "## Función map."
   ]
  },
  {
   "cell_type": "code",
   "execution_count": 34,
   "id": "62d5a6ee",
   "metadata": {},
   "outputs": [
    {
     "name": "stdout",
     "output_type": "stream",
     "text": [
      "[16, 25, 4]\n"
     ]
    }
   ],
   "source": [
    "# map(funcion, secuencia) Aplica la función a todos los elementos de la secuencia.\n",
    "lista = [4, 5, 2]\n",
    "lista_al_cuadrado = map(lambda x: x**2, lista)\n",
    "print(list(lista_al_cuadrado))"
   ]
  },
  {
   "cell_type": "markdown",
   "id": "022d3351",
   "metadata": {},
   "source": [
    "### Crear una función lambda que convierta de dolares a euros una lista de precios\n",
    "Asumiremos que 1 € = 1,1 $"
   ]
  },
  {
   "cell_type": "code",
   "execution_count": 35,
   "id": "51fd3c0c",
   "metadata": {},
   "outputs": [],
   "source": [
    "precios_dol = [10.82, 11.95, 14.49, 24.95]"
   ]
  },
  {
   "cell_type": "code",
   "execution_count": 36,
   "id": "33d8bd1b",
   "metadata": {},
   "outputs": [
    {
     "data": {
      "text/plain": [
       "[10.82, 11.95, 14.49, 24.95]"
      ]
     },
     "execution_count": 36,
     "metadata": {},
     "output_type": "execute_result"
    }
   ],
   "source": [
    "precios_dol"
   ]
  },
  {
   "cell_type": "code",
   "execution_count": 38,
   "id": "12307866",
   "metadata": {},
   "outputs": [
    {
     "name": "stdout",
     "output_type": "stream",
     "text": [
      "[9.836363636363636, 10.863636363636362, 13.172727272727272, 22.68181818181818]\n"
     ]
    }
   ],
   "source": [
    "precios_euros = map(lambda x: x/1.1, precios_dol)\n",
    "print(list(precios_euros))"
   ]
  },
  {
   "cell_type": "code",
   "execution_count": null,
   "id": "3c678370",
   "metadata": {},
   "outputs": [],
   "source": []
  }
 ],
 "metadata": {
  "kernelspec": {
   "display_name": "Python 3",
   "language": "python",
   "name": "python3"
  },
  "language_info": {
   "codemirror_mode": {
    "name": "ipython",
    "version": 3
   },
   "file_extension": ".py",
   "mimetype": "text/x-python",
   "name": "python",
   "nbconvert_exporter": "python",
   "pygments_lexer": "ipython3",
   "version": "3.10.11"
  }
 },
 "nbformat": 4,
 "nbformat_minor": 5
}
